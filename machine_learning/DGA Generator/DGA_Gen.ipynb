{
 "cells": [
  {
   "cell_type": "code",
   "execution_count": 6,
   "metadata": {},
   "outputs": [
    {
     "name": "stderr",
     "output_type": "stream",
     "text": [
      "[nltk_data] Downloading package words to /Users/winsome/nltk_data...\n",
      "[nltk_data]   Package words is already up-to-date!\n",
      "[nltk_data] Downloading package names to /Users/winsome/nltk_data...\n",
      "[nltk_data]   Package names is already up-to-date!\n",
      "[nltk_data] Downloading package brown to /Users/winsome/nltk_data...\n",
      "[nltk_data]   Package brown is already up-to-date!\n",
      "[nltk_data] Downloading package averaged_perceptron_tagger to\n",
      "[nltk_data]     /Users/winsome/nltk_data...\n",
      "[nltk_data]   Package averaged_perceptron_tagger is already up-to-\n",
      "[nltk_data]       date!\n"
     ]
    }
   ],
   "source": [
    "import nltk\n",
    "import random\n",
    "import string\n",
    "\n",
    "# Ensure you have downloaded the necessary NLTK data\n",
    "nltk.download('words')\n",
    "nltk.download('names')\n",
    "nltk.download('brown')\n",
    "nltk.download('averaged_perceptron_tagger')\n",
    "\n",
    "from nltk.corpus import words, names, brown\n",
    "from nltk import pos_tag"
   ]
  },
  {
   "cell_type": "code",
   "execution_count": 7,
   "metadata": {},
   "outputs": [
    {
     "name": "stdout",
     "output_type": "stream",
     "text": [
      "['sporousunsagecanton.xyz', 'unlosablebroadaxacidize.co', 'yestreenbannsfilthify.ru', 'sportsweardisjunebetting.net', 'sulphiticdaedalusfabled.xyz', 'unkedglossographbeinked.co', 'unlaborableharariscove.net', 'unhittableundescryingobex.ru', 'popiangrillepreachieved.xyz', 'mediglacialjackwindbibber.cn']\n"
     ]
    }
   ],
   "source": [
    "# Get the list of English words and names\n",
    "word_list = words.words()\n",
    "name_list = names.words()\n",
    "\n",
    "# Filter words based on part-of-speech tags\n",
    "tagged_words = pos_tag(word_list)\n",
    "adjectives = [word for word, pos in tagged_words if pos.startswith('JJ')]\n",
    "nouns = [word for word, pos in tagged_words if pos.startswith('NN')]\n",
    "verbs = [word for word, pos in tagged_words if pos.startswith('VB')]\n",
    "\n",
    "# Ensure filtered lists have sufficient length\n",
    "adjectives = [word for word in adjectives if len(word) > 3]\n",
    "nouns = [word for word in nouns if len(word) > 3]\n",
    "verbs = [word for word in verbs if len(word) > 3]\n",
    "\n",
    "# Function to create a non-sensical domain\n",
    "def generate_dga_domain(adjectives, nouns, verbs, min_length=10, max_length=25):\n",
    "    while True:\n",
    "        # Choose random words from different categories\n",
    "        word1 = random.choice(adjectives)\n",
    "        word2 = random.choice(nouns)\n",
    "        word3 = random.choice(verbs)\n",
    "        \n",
    "        # Combine the words\n",
    "        domain = word1 + word2 + word3\n",
    "        \n",
    "        # Check if the combined length is within the specified range\n",
    "        if min_length <= len(domain) <= max_length:\n",
    "            break\n",
    "    \n",
    "    # Add a random TLD\n",
    "    tld = random.choice(['.com', '.net', '.org', '.co', '.cn', '.ru', '.xyz'])\n",
    "    \n",
    "    return domain + tld\n",
    "\n",
    "# Generate a sample of DGA domains\n",
    "def generate_dga_samples(n_samples=10000, min_length=10, max_length=25):\n",
    "    dga_domains = []\n",
    "    for _ in range(n_samples):\n",
    "        domain = generate_dga_domain(adjectives, nouns, verbs, min_length, max_length)\n",
    "        dga_domains.append(domain.lower())\n",
    "    return dga_domains\n",
    "\n",
    "# Generate 10000 DGA domain samples\n",
    "dga_domains = generate_dga_samples()\n",
    "print(dga_domains[:10])  # Print the first 10 samples"
   ]
  },
  {
   "cell_type": "code",
   "execution_count": null,
   "metadata": {},
   "outputs": [],
   "source": []
  }
 ],
 "metadata": {
  "kernelspec": {
   "display_name": "Python 3",
   "language": "python",
   "name": "python3"
  },
  "language_info": {
   "codemirror_mode": {
    "name": "ipython",
    "version": 3
   },
   "file_extension": ".py",
   "mimetype": "text/x-python",
   "name": "python",
   "nbconvert_exporter": "python",
   "pygments_lexer": "ipython3",
   "version": "3.9.6"
  }
 },
 "nbformat": 4,
 "nbformat_minor": 2
}
